{
 "cells": [
  {
   "cell_type": "markdown",
   "id": "4529f659-e95f-4c0d-aa50-9a7eb83cb05c",
   "metadata": {},
   "source": [
    "# Sampling Methods\n",
    "### Notebook that details the different sampling methods along with simulation code\n",
    "Sampling is the process of selecting a subset of individuals from a larger population to estimate characteristics of the whole population."
   ]
  },
  {
   "cell_type": "markdown",
   "id": "b2dd0e6c-e1d6-43fa-8dad-556131446116",
   "metadata": {},
   "source": [
    "### 1. Simple Random sampling"
   ]
  },
  {
   "cell_type": "markdown",
   "id": "0b28005c-73d3-4fba-b537-dd0037d12cb6",
   "metadata": {},
   "source": [
    "Simple random sampling is a straightforward method where every member of the population has an equal chance of being selected"
   ]
  },
  {
   "cell_type": "markdown",
   "id": "25b19246-5c24-4ab1-907b-0ea7dd72c250",
   "metadata": {},
   "source": [
    "Use Cases:\n",
    "Public opinion polls,\n",
    "Market research,\n",
    "Any scenario requiring an unbiased representation of the population"
   ]
  },
  {
   "cell_type": "code",
   "execution_count": 133,
   "id": "42416bef-dd7b-4874-a2a0-16a05342f4a7",
   "metadata": {},
   "outputs": [],
   "source": [
    "import pandas as pd\n",
    "import numpy as np\n",
    "from matplotlib import pyplot as plt\n",
    "import datetime \n",
    "import sklearn.model_selection\n",
    "import sklearn.metrics\n",
    "plt.style.use('fivethirtyeight')"
   ]
  },
  {
   "cell_type": "code",
   "execution_count": 138,
   "id": "effb2f01-6a78-481f-9210-c53b435e0cc2",
   "metadata": {},
   "outputs": [],
   "source": [
    "# Sample dataset\n",
    "data = {'Name': ['Alice', 'Bob', 'Charlie', 'David', 'Eva'],\n",
    "        'Age': [25, 30, 35, 40, 45],\n",
    "        'Salary': [50000, 60000, 70000, 80000, 90000]}\n",
    "df = pd.DataFrame(data)"
   ]
  },
  {
   "cell_type": "code",
   "execution_count": 63,
   "id": "52aa6b44-9ebe-4f51-ad0a-eb2866d9db30",
   "metadata": {},
   "outputs": [],
   "source": [
    "def percentage_diff_2d(var1,var2):\n",
    "    diff = round((var2-var1)/var1,2)*100\n",
    "    return diff"
   ]
  },
  {
   "cell_type": "code",
   "execution_count": 97,
   "id": "0b88f8d2-50a3-4e49-a192-bd2ea006f652",
   "metadata": {},
   "outputs": [],
   "source": [
    "\n",
    "def simple_random_choice(population,sample_size):\n",
    "    sample = np.random.choice(np.arange(population), size = sample_size, replace=False)\n",
    "    pop_mean = np.arange(population).mean()\n",
    "    sam_mean = sample.mean()\n",
    "    diff = percentage_diff_2d(pop_mean, sam_mean)\n",
    "    return np.abs(diff)"
   ]
  },
  {
   "cell_type": "code",
   "execution_count": 127,
   "id": "ac9ca0e0-c93d-45a7-a787-037fc4b38033",
   "metadata": {},
   "outputs": [
    {
     "data": {
      "text/plain": [
       "[<matplotlib.lines.Line2D at 0x1474a9d60>]"
      ]
     },
     "execution_count": 127,
     "metadata": {},
     "output_type": "execute_result"
    },
    {
     "data": {
      "image/png": "[encoded data removed]",
      "text/plain": [
       "<Figure size 640x480 with 1 Axes>"
      ]
     },
     "metadata": {},
     "output_type": "display_data"
    }
   ],
   "source": [
    "percentage_diff = []\n",
    "population = 100000\n",
    "sample_size = 1000\n",
    "simple_random_choice(100000,10000)\n",
    "for value in np.arange(100,10000):\n",
    "    percentage_diff.append(simple_random_choice(population, value))\n",
    "plt.plot(np.arange(100,10000),percentage_diff)"
   ]
  },
  {
   "cell_type": "markdown",
   "id": "0b37907a-5cf9-4d09-9c3b-1704c4fad38e",
   "metadata": {},
   "source": [
    "The percentage difference between the sample mean and the population mean reduce with the increase in sample size. This is also a reference to the Central limit theorem that proves that the mean of the sampling distribution will converge to the population mean as sample size increases"
   ]
  },
  {
   "cell_type": "markdown",
   "id": "fe8e99fc-2411-4a9f-acc9-ae5c9b2a46c4",
   "metadata": {},
   "source": [
    "### 2. Stratified Sampling"
   ]
  },
  {
   "cell_type": "markdown",
   "id": "8f0c0d7f-e593-48cc-9910-ee69932a89b6",
   "metadata": {},
   "source": [
    "Definition: Dividing the population into strata (groups) and sampling proportionally from each."
   ]
  },
  {
   "cell_type": "markdown",
   "id": "e03e20a2-4962-4dc9-826c-cadf85c61513",
   "metadata": {},
   "source": [
    "Use Cases:\n",
    "Educational research across different grades\n",
    "Health studies across age groups\n",
    "\n",
    "This is useful when the population contains sub cohorts that behave differently and have different distributions so a simple ransom smaple may not be representative of all the cohorts"
   ]
  },
  {
   "cell_type": "code",
   "execution_count": 151,
   "id": "6763fa19-2b91-4b50-8e5a-99c3ce87fb60",
   "metadata": {},
   "outputs": [
    {
     "name": "stdout",
     "output_type": "stream",
     "text": [
      "      Name  Age  Salary Group\n",
      "2  Charlie   35   70000     A\n",
      "0    Alice   25   50000     A\n",
      "3    David   40   80000     B\n"
     ]
    }
   ],
   "source": [
    "from sklearn.model_selection import train_test_split\n",
    "\n",
    "df['Group'] = ['A', 'B', 'A', 'B', 'A']\n",
    "\n",
    "# Stratified sampling\n",
    "stratified_sample, _ = train_test_split(df, test_size=0.4, stratify=df['Group'],random_state = 42)\n",
    "print(stratified_sample)"
   ]
  },
  {
   "cell_type": "markdown",
   "id": "28f1fb26-03ee-4c90-b9b8-b93b850aaddb",
   "metadata": {},
   "source": [
    "Example code below of creating stratified samples by generating multiple samples for each stratum"
   ]
  },
  {
   "cell_type": "code",
   "execution_count": null,
   "id": "be9193ab-ff3c-4a27-b87f-d600efdace7e",
   "metadata": {},
   "outputs": [],
   "source": [
    "\n",
    "import pandas as pd\n",
    "from sklearn.model_selection import train_test_split\n",
    "\n",
    "# Assume 'data' is a DataFrame with a 'stratum' column\n",
    "strata = data['stratum'].unique()\n",
    "stratified_sample = pd.DataFrame()\n",
    "\n",
    "for stratum in strata:\n",
    "    stratum_data = data[data['stratum'] == stratum]\n",
    "    sample, _ = train_test_split(stratum_data, test_size=0.8, random_state=42)\n",
    "    stratified_sample = pd.concat([stratified_sample, sample])"
   ]
  },
  {
   "cell_type": "markdown",
   "id": "4bc2f31c-691f-48aa-9386-d3b76a3d9448",
   "metadata": {},
   "source": [
    "### 3. Cluster Sampling"
   ]
  },
  {
   "cell_type": "markdown",
   "id": "ba0f1f67-d64f-4ddc-ab7b-20eba7249da0",
   "metadata": {},
   "source": [
    "Cluster sampling involves dividing the population into clusters, usually based on geographical areas, and then randomly selecting entire clusters"
   ]
  },
  {
   "cell_type": "markdown",
   "id": "578c7f3f-8626-4c65-9dff-8dd8c139952b",
   "metadata": {},
   "source": [
    "Use Cases:\n",
    "Large-scale surveys (e.g., national health surveys)\n",
    "Studies involving geographically dispersed populations"
   ]
  },
  {
   "cell_type": "markdown",
   "id": "8bbcd0ae-b433-42a8-9bd1-1470f943ac39",
   "metadata": {},
   "source": [
    "Stratified sampling: Population divided into subgroups (strata) based on shared characteristics, then samples taken proportionally from each stratum. Ensures representation of all subgroups.\n",
    "\n",
    "Cluster sampling: Population divided into clusters (usually geographic), then entire clusters are randomly selected. More convenient but less precise than stratified sampling.\n",
    "Key difference: Stratified samples from all groups; cluster takes entire groups.\n",
    "Example:\n",
    "\n",
    "Stratified: Sample 20% of students from each grade level\n",
    "Cluster: Randomly select entire classrooms"
   ]
  },
  {
   "cell_type": "code",
   "execution_count": null,
   "id": "da27f745-b83d-45ff-8ed0-b9460f753318",
   "metadata": {},
   "outputs": [],
   "source": [
    "import numpy as np\n",
    "\n",
    "# Assume 'clusters' is a list of cluster IDs\n",
    "clusters = np.arange(100)\n",
    "selected_clusters = np.random.choice(clusters, size=10, replace=False)\n",
    "\n",
    "# Assume 'data' is a DataFrame with a 'cluster_id' column\n",
    "cluster_sample = data[data['cluster_id'].isin(selected_clusters)]"
   ]
  },
  {
   "cell_type": "markdown",
   "id": "c7d1b51a-f3c5-4ee3-b7f2-14f9c36a4fc0",
   "metadata": {},
   "source": [
    "Purpose of Stratify\n",
    "The main purposes of using the stratify parameter are:\n",
    "\n",
    "**Maintaining Class Distribution:** It ensures that both the training and test sets have the same class distribution as the original dataset. This is crucial for creating representative samples for model training and evaluation \n",
    "\n",
    "**Handling Imbalanced Datasets:** In cases where one class significantly outnumbers others, stratification helps prevent situations where a subset might lack examples from minority classes \n",
    "\n",
    "**Improving Model Reliability:** By maintaining class proportions, stratification helps in obtaining more reliable and consistent results in model training and evaluation \n",
    " \n",
    "**Reducing Bias:** It prevents the model from being biased towards the majority class, which can happen if the split doesn't maintain the original class distribution \n",
    ".\n"
   ]
  },
  {
   "cell_type": "markdown",
   "id": "33027aaa-46f7-4425-8c1d-13d0fa04422b",
   "metadata": {},
   "source": [
    "Stratification is also crucial in **cross-validation techniques**, particularly when using StratifiedKFold:"
   ]
  },
  {
   "cell_type": "code",
   "execution_count": null,
   "id": "68ad936e-a629-4b75-a648-5a6e0af101ed",
   "metadata": {},
   "outputs": [],
   "source": [
    "from sklearn.model_selection import StratifiedKFold\n",
    "\n",
    "skf = StratifiedKFold(n_splits=5)\n",
    "for train_index, test_index in skf.split(X, y):\n",
    "    X_train, X_test = X[train_index], X[test_index]\n",
    "    y_train, y_test = y[train_index], y[test_index]"
   ]
  },
  {
   "cell_type": "markdown",
   "id": "5692d9ca-4a5a-42de-b0d9-f1ec4609c959",
   "metadata": {},
   "source": [
    "### 4. Systematic Sampling"
   ]
  },
  {
   "cell_type": "markdown",
   "id": "b3efc61e-aa14-45b2-9abe-aab6fb83fe40",
   "metadata": {},
   "source": [
    "Systematic sampling involves selecting every nth member from a list of the population \n",
    ".\n",
    "Use Cases:\n",
    "Quality control processes in manufacturing\n",
    "Surveys with ordered populations"
   ]
  },
  {
   "cell_type": "markdown",
   "id": "671902ca-d906-4424-833e-a65143520adb",
   "metadata": {},
   "source": [
    "Use Cases:\n",
    "Quality control processes in manufacturing\n",
    "Surveys with ordered populations"
   ]
  },
  {
   "cell_type": "code",
   "execution_count": null,
   "id": "b2e9b08f-61b2-4100-9700-117fd07dc40e",
   "metadata": {},
   "outputs": [],
   "source": [
    "import numpy as np\n",
    "\n",
    "population = np.arange(1000)\n",
    "step = 10  # Select every 10th item\n",
    "systematic_sample = population[::step]"
   ]
  },
  {
   "cell_type": "markdown",
   "id": "c4e18dc0-1422-48cf-b05f-549c83fdc906",
   "metadata": {},
   "source": [
    "Circumstances Where Systematic Sampling Might Be Used\n",
    "While not commonly recommended for time series analysis or switchback tests, systematic sampling could potentially be used under certain circumstances:\n",
    "\n",
    "**Large, Uniform Datasets:** In cases where the time series data is very large and known to be relatively uniform without significant temporal patterns, systematic sampling might be used as a simple method to reduce the dataset size.\n",
    "\n",
    "**Preliminary Analysis:** It might be used in the early stages of analysis to get a quick overview of the data, before moving on to more sophisticated sampling methods.\n",
    "\n",
    "**Quality Control in Manufacturing:** In time series data from manufacturing processes, systematic sampling might be used for quality control by inspecting every nth item on a production line, assuming the production process is stable and uniform \n",
    "\n",
    "**Environmental Monitoring:** In some environmental studies where data points are collected at regular intervals across a geographic area, systematic sampling could be applied if the temporal and spatial patterns are known to be relatively consistent "
   ]
  },
  {
   "cell_type": "markdown",
   "id": "1ea03248-0fe9-47ee-8823-e7f8a2a24e8c",
   "metadata": {},
   "source": [
    "# Non-probability sampling"
   ]
  },
  {
   "cell_type": "markdown",
   "id": "eac0e9e5-5754-4daa-9ec2-3bb48f31fd04",
   "metadata": {},
   "source": [
    "In this kind of sampling, we intentionally do not assign importance to each element in the population having an equal chance of being picked up in the sample."
   ]
  },
  {
   "cell_type": "markdown",
   "id": "9d222a17-3d2a-473d-a9ab-57b8d222825a",
   "metadata": {},
   "source": [
    "### 1. Quota Sampling"
   ]
  },
  {
   "cell_type": "markdown",
   "id": "67809b15-158e-4202-b0ef-c9674df9901c",
   "metadata": {},
   "source": [
    "In this, we divide the population into quotas that represent the population, and this forms the basis of the elements we select in the sample. This might look similar to random sampling, but the important difference is that we first divide the population into fixed quotas. From these fixed quotas, we select the sample. Quota could be something like all males above 20 or children between 12 and 18 years of age. Using quota sampling saves time and resources and is a quick way to get the study started."
   ]
  },
  {
   "cell_type": "markdown",
   "id": "da0f78ff-3abd-4596-a323-fb4eb5055c4f",
   "metadata": {},
   "source": [
    "### 2. Snowball sampling"
   ]
  },
  {
   "cell_type": "markdown",
   "id": "951f62bd-9b5b-441f-8c23-d7e0b1944719",
   "metadata": {},
   "source": [
    "This is one of the most interesting non-probabilistic techniques. You first select, at random, members for the sample. Suppose you selected 3 members. Now, these three will suggest more names for the study, and this creates a chain effect. Snowball sampling is useful in cases where it is difficult to locate people, or they do not wish to be identified. For instance, in medical research where you are studying a rare disease, you might find that snowball sampling is the only way you can get to the desired sample size."
   ]
  },
  {
   "cell_type": "markdown",
   "id": "48e456d5-a055-4230-8f1e-7449c84a2234",
   "metadata": {},
   "source": [
    "2.2.1 Linear snowball sampling\n",
    "\n",
    "The chain grow linearly. Each member in the sample refers to one more member.\n",
    "\n",
    "2.2.2 Exponential non-discriminative snowball sampling\n",
    "\n",
    "One to many relationships. Each member in the study refers to multiple members, and all are selected in the study. As you can imagine, this creates an exponential effect on the size of the sample. As you might have guessed, this may introduce bias into the sampling and researchers have no idea if the sample is representative of the population under study.\n",
    "\n",
    "2.2.3 Exponential discriminative snowball sampling\n",
    "\n",
    "Here, while we will request the member to provide multiple referrals, we will select only one out of these and nullify the remaining referrals. By doing this, researchers attempt to reduce the chances of bias in the sampling technique."
   ]
  },
  {
   "cell_type": "markdown",
   "id": "2acbb40a-6a98-447d-8dc1-7002f98e8c22",
   "metadata": {},
   "source": [
    "### 3. Judgment sampling"
   ]
  },
  {
   "cell_type": "markdown",
   "id": "92ee4c8a-b27d-4d77-85b1-cd2410ec7bfb",
   "metadata": {},
   "source": [
    "Here, the researcher brings forth their qualified opinion and judgment on who should be part of the sample. This is typically used where you want to select experts or highly intellectual individuals in your sample. The best approach is to identify the experts and form the sample."
   ]
  },
  {
   "cell_type": "markdown",
   "id": "1cd3ce9f-75fb-491e-a2f8-d4484da9e673",
   "metadata": {},
   "source": [
    "### 4. Convenience sampling"
   ]
  },
  {
   "cell_type": "markdown",
   "id": "fceddceb-b281-40aa-bf9f-03bb5a2e120a",
   "metadata": {},
   "source": [
    "Here, we prioritize the accessibility of the element above other considerations. The researcher selects the elements based on convenience. This is typically used in the initial phases of the survey, where the researcher intends to gain quick feedback on the design of the survey. It helps to quickly prototype the survey design."
   ]
  },
  {
   "cell_type": "markdown",
   "id": "d6d4af57-b457-41f3-98e7-f4f1196d67a7",
   "metadata": {},
   "source": [
    "References:\n",
    "\n",
    "1. You.com search\n",
    "https://you.com/search?q=What+are+the+different+sampling+and+resampling+methods+in+statistics+and+when+is+it+used%3F+Can+you+provide+pyhton+code+for+each+with+a+sample+real+world+dataset%3F&tbm=youchat&cfr=chat&cid=c0_51bbe3b1-edc6-4b5e-b290-68c841201228&chatMode=research\n",
    "\n",
    "2. Analytics Vidhya\n",
    "https://www.analyticsvidhya.com/blog/2021/09/a-complete-guide-on-sampling-techniques/#:~:text=In%20disproportionate%20stratified%20random,representation%20in%20the%20sample%2C\n",
    "\n",
    "3. Statsig documentation\n",
    "https://docs.statsig.com/experiments-plus/stratified-sampling\n"
   ]
  },
  {
   "cell_type": "code",
   "execution_count": null,
   "id": "86c8be91-9465-4d88-943d-e9a9033d1e06",
   "metadata": {},
   "outputs": [],
   "source": []
  }
 ],
 "metadata": {
  "kernelspec": {
   "display_name": "Python 3 (ipykernel)",
   "language": "python",
   "name": "python3"
  },
  "language_info": {
   "codemirror_mode": {
    "name": "ipython",
    "version": 3
   },
   "file_extension": ".py",
   "mimetype": "text/x-python",
   "name": "python",
   "nbconvert_exporter": "python",
   "pygments_lexer": "ipython3",
   "version": "3.12.4"
  }
 },
 "nbformat": 4,
 "nbformat_minor": 5
}
